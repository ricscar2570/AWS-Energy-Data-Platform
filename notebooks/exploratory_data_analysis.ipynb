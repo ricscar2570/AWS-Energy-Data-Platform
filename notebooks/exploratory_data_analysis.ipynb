{
 "cells": [
  {
   "cell_type": "code",
   "execution_count": null,
   "metadata": {},
   "outputs": [],
   "source": [
    "import pandas as pd\n",
    "import matplotlib.pyplot as plt\n",
    "\n",
    "data = pd.read_csv('data/example_training_data.csv')\n",
    "avg_consumption = data.groupby('sensor_id')['consumption'].mean()\n",
    "avg_consumption.plot(kind='bar', title='Average Consumption per Sensor')\n",
    "plt.xlabel('Sensor ID')\n",
    "plt.ylabel('Average Consumption (kWh)')\n",
    "plt.show()"
   ]
  }
 ],
 "metadata": {},
 "nbformat": 4,
 "nbformat_minor": 4
}