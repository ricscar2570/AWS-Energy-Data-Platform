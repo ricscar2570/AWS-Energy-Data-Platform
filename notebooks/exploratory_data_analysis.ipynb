{

 "cells": [

  {

   "cell_type": "code",

   "execution_count": null,

   "metadata": {},

   "outputs": [],

   "source": [

    "# Import required libraries\\n",

    "import pandas as pd\\n",

    "import matplotlib.pyplot as plt\\n",

    "\\n",

    "# Load the example dataset from the CSV file\\n",

    "data = pd.read_csv('data/example_training_data.csv')\\n",

    "\\n",

    "# Calculate the average energy consumption per sensor\\n",

    "avg_consumption = data.groupby('sensor_id')['consumption'].mean()\\n",

    "\\n",

    "# Plot the average consumption for each sensor\\n",

    "avg_consumption.plot(kind='bar', title='Average Consumption per Sensor')\\n",

    "plt.xlabel('Sensor ID')  # Label for the x-axis\\n",

    "plt.ylabel('Average Consumption (kWh)')  # Label for the y-axis\\n",

    "plt.show()  # Display the plot\\n"

   ]

  }

 ],

 "metadata": {},

 "nbformat": 4,

 "nbformat_minor": 4

}

 "nbformat": 4,
 "nbformat_minor": 4
}
